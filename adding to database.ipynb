{
 "cells": [
  {
   "cell_type": "code",
   "execution_count": 12,
   "id": "2edbd2e8",
   "metadata": {},
   "outputs": [],
   "source": [
    "import os\n",
    "import shutil"
   ]
  },
  {
   "cell_type": "code",
   "execution_count": 13,
   "id": "0c7658eb",
   "metadata": {},
   "outputs": [],
   "source": [
    "# define the folder path where the .jpg and .txt files are located\n",
    "folder_pathJ = \"C:/Users/hedib/Downloads/oil spill detection.v2-resize-640.yolov8/script\"\n",
    "folder_pathT = \"C:/Users/hedib/Downloads/oil spill detection.v2-resize-640.yolov8/train/labels\""
   ]
  },
  {
   "cell_type": "code",
   "execution_count": 14,
   "id": "1ffc1a9e",
   "metadata": {},
   "outputs": [],
   "source": [
    "jpg_files = [f for f in os.listdir(folder_pathJ) if f.endswith('.jpg')]"
   ]
  },
  {
   "cell_type": "code",
   "execution_count": 15,
   "id": "ff497966",
   "metadata": {},
   "outputs": [],
   "source": [
    "for jpg_file in jpg_files:\n",
    "    # get the base name of the .jpg file (i.e., without the extension)\n",
    "    base_name = os.path.splitext(jpg_file)[0]\n",
    "    \n",
    "    # check if there's a corresponding .txt file with the same name\n",
    "    txt_file = base_name + '.txt'\n",
    "    if txt_file in os.listdir(folder_pathT):\n",
    "        # copy the .txt file to a new folder (in this case, the same folder)\n",
    "        shutil.copy(os.path.join(folder_pathT, txt_file), os.path.join(folder_pathJ, txt_file))"
   ]
  },
  {
   "cell_type": "code",
   "execution_count": 19,
   "id": "ebe7de8a",
   "metadata": {},
   "outputs": [],
   "source": [
    "# define the folder path where the .jpg and .txt files are located\n",
    "folder_pathI = \"C:/Users/hedib/Downloads/oil spill detection.v2-resize-640.yolov8/script/images\"\n",
    "folder_pathL = \"C:/Users/hedib/Downloads/oil spill detection.v2-resize-640.yolov8/script/labels\""
   ]
  },
  {
   "cell_type": "code",
   "execution_count": 20,
   "id": "7af467f8",
   "metadata": {},
   "outputs": [],
   "source": [
    "if not os.path.exists(folder_pathI):\n",
    "    os.mkdir(folder_pathI)\n",
    "if not os.path.exists(folder_pathL):\n",
    "    os.mkdir(folder_pathL)"
   ]
  },
  {
   "cell_type": "code",
   "execution_count": 21,
   "id": "58b484c2",
   "metadata": {},
   "outputs": [],
   "source": [
    "# define the file extension to copy\n",
    "file_extensionJ = \".jpg\"\n",
    "# define the file extension to copy\n",
    "file_extensionT = \".txt\""
   ]
  },
  {
   "cell_type": "code",
   "execution_count": 23,
   "id": "6c13ecdc",
   "metadata": {},
   "outputs": [],
   "source": [
    "for filename in os.listdir(folder_pathJ):\n",
    "    \n",
    "    # check if the file has the desired extension\n",
    "    if filename.endswith(file_extensionJ):\n",
    "        # construct the source and destination file paths\n",
    "        source_file_path = os.path.join(folder_pathJ, filename)\n",
    "        destination_file_path = os.path.join(folder_pathI, filename)\n",
    "        \n",
    "    if filename.endswith(file_extensionT):\n",
    "        # construct the source and destination file paths\n",
    "        source_file_path = os.path.join(folder_pathJ, filename)\n",
    "        destination_file_path = os.path.join(folder_pathL, filename)\n",
    "        \n",
    "    # copy the file to the destination folder\n",
    "    shutil.copy(source_file_path, destination_file_path)"
   ]
  },
  {
   "cell_type": "code",
   "execution_count": null,
   "id": "b11e39e6",
   "metadata": {},
   "outputs": [],
   "source": []
  }
 ],
 "metadata": {
  "kernelspec": {
   "display_name": "Python 3 (ipykernel)",
   "language": "python",
   "name": "python3"
  },
  "language_info": {
   "codemirror_mode": {
    "name": "ipython",
    "version": 3
   },
   "file_extension": ".py",
   "mimetype": "text/x-python",
   "name": "python",
   "nbconvert_exporter": "python",
   "pygments_lexer": "ipython3",
   "version": "3.9.13"
  }
 },
 "nbformat": 4,
 "nbformat_minor": 5
}

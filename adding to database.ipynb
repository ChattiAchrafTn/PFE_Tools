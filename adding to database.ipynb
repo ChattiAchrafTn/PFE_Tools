{
 "cells": [
  {
   "cell_type": "code",
   "execution_count": 44,
   "id": "fd3bf03a",
   "metadata": {},
   "outputs": [],
   "source": [
    "import os\n",
    "import shutil\n",
    "import random"
   ]
  },
  {
   "cell_type": "code",
   "execution_count": 45,
   "id": "45170409",
   "metadata": {},
   "outputs": [],
   "source": [
    "# define the source folder path where the files are located\n",
    "source_flder_path = \"C:/Users/hedib/Desktop/imagesTest/\"\n",
    "\n",
    "# define the destination folder names\n",
    "destination_train = \"train\"\n",
    "destination_val = \"val\""
   ]
  },
  {
   "cell_type": "code",
   "execution_count": 46,
   "id": "ff4ea672",
   "metadata": {},
   "outputs": [],
   "source": [
    "percentageT = 70\n",
    "percentageV = 30"
   ]
  },
  {
   "cell_type": "code",
   "execution_count": 47,
   "id": "d43fa131",
   "metadata": {},
   "outputs": [],
   "source": [
    "# create the destination folders if they don't exist\n",
    "destination_train = os.path.join(source_flder_path, destination_train)\n",
    "destination_val = os.path.join(source_flder_path, destination_val)"
   ]
  },
  {
   "cell_type": "code",
   "execution_count": 49,
   "id": "460508f9",
   "metadata": {},
   "outputs": [],
   "source": [
    "if not os.path.exists(destination_train):\n",
    "    os.mkdir(destination_train)\n",
    "if not os.path.exists(destination_val):\n",
    "    os.mkdir(destination_val)"
   ]
  },
  {
   "cell_type": "code",
   "execution_count": 50,
   "id": "9d5ca386",
   "metadata": {},
   "outputs": [],
   "source": [
    "# get a list of all files in the source folder\n",
    "all_files = os.listdir(source_flder_path)"
   ]
  },
  {
   "cell_type": "code",
   "execution_count": 51,
   "id": "bb60f2ae",
   "metadata": {},
   "outputs": [],
   "source": [
    "# calculate the number of files to copy to each destination folder based on the percentages\n",
    "num_filesT = int(len(all_files) * (percentageT / 100)) #35\n",
    "num_filesV = int(len(all_files)) - num_filesT #15"
   ]
  },
  {
   "cell_type": "code",
   "execution_count": 52,
   "id": "0c126c0d",
   "metadata": {},
   "outputs": [],
   "source": [
    "# randomly select the files to copy to each destination folder\n",
    "files1 = random.sample(all_files, num_filesT)\n",
    "files2 = random.sample(list(set(all_files) - set(files1)), num_filesV)"
   ]
  },
  {
   "cell_type": "code",
   "execution_count": 53,
   "id": "ff3f6030",
   "metadata": {},
   "outputs": [
    {
     "ename": "PermissionError",
     "evalue": "[Errno 13] Permission denied: 'C:/Users/hedib/Desktop/imagesTest/val'",
     "output_type": "error",
     "traceback": [
      "\u001b[1;31m---------------------------------------------------------------------------\u001b[0m",
      "\u001b[1;31mPermissionError\u001b[0m                           Traceback (most recent call last)",
      "\u001b[1;32m~\\AppData\\Local\\Temp\\ipykernel_216\\2891337277.py\u001b[0m in \u001b[0;36m<module>\u001b[1;34m\u001b[0m\n\u001b[0;32m      3\u001b[0m     \u001b[0msource_pfile_path\u001b[0m \u001b[1;33m=\u001b[0m \u001b[0mos\u001b[0m\u001b[1;33m.\u001b[0m\u001b[0mpath\u001b[0m\u001b[1;33m.\u001b[0m\u001b[0mjoin\u001b[0m\u001b[1;33m(\u001b[0m\u001b[0msource_flder_path\u001b[0m\u001b[1;33m,\u001b[0m \u001b[0mfilename\u001b[0m\u001b[1;33m)\u001b[0m\u001b[1;33m\u001b[0m\u001b[1;33m\u001b[0m\u001b[0m\n\u001b[0;32m      4\u001b[0m     \u001b[0mdestination_pfile_path\u001b[0m \u001b[1;33m=\u001b[0m \u001b[0mos\u001b[0m\u001b[1;33m.\u001b[0m\u001b[0mpath\u001b[0m\u001b[1;33m.\u001b[0m\u001b[0mjoin\u001b[0m\u001b[1;33m(\u001b[0m\u001b[0mdestination_train\u001b[0m\u001b[1;33m,\u001b[0m \u001b[0mfilename\u001b[0m\u001b[1;33m)\u001b[0m\u001b[1;33m\u001b[0m\u001b[1;33m\u001b[0m\u001b[0m\n\u001b[1;32m----> 5\u001b[1;33m     \u001b[0mshutil\u001b[0m\u001b[1;33m.\u001b[0m\u001b[0mcopy\u001b[0m\u001b[1;33m(\u001b[0m\u001b[0msource_pfile_path\u001b[0m\u001b[1;33m,\u001b[0m \u001b[0mdestination_pfile_path\u001b[0m\u001b[1;33m)\u001b[0m\u001b[1;33m\u001b[0m\u001b[1;33m\u001b[0m\u001b[0m\n\u001b[0m\u001b[0;32m      6\u001b[0m \u001b[1;33m\u001b[0m\u001b[0m\n\u001b[0;32m      7\u001b[0m \u001b[1;32mfor\u001b[0m \u001b[0mfilename\u001b[0m \u001b[1;32min\u001b[0m \u001b[0mfiles2\u001b[0m\u001b[1;33m:\u001b[0m\u001b[1;33m\u001b[0m\u001b[1;33m\u001b[0m\u001b[0m\n",
      "\u001b[1;32mD:\\anaconda3\\lib\\shutil.py\u001b[0m in \u001b[0;36mcopy\u001b[1;34m(src, dst, follow_symlinks)\u001b[0m\n\u001b[0;32m    425\u001b[0m     \u001b[1;32mif\u001b[0m \u001b[0mos\u001b[0m\u001b[1;33m.\u001b[0m\u001b[0mpath\u001b[0m\u001b[1;33m.\u001b[0m\u001b[0misdir\u001b[0m\u001b[1;33m(\u001b[0m\u001b[0mdst\u001b[0m\u001b[1;33m)\u001b[0m\u001b[1;33m:\u001b[0m\u001b[1;33m\u001b[0m\u001b[1;33m\u001b[0m\u001b[0m\n\u001b[0;32m    426\u001b[0m         \u001b[0mdst\u001b[0m \u001b[1;33m=\u001b[0m \u001b[0mos\u001b[0m\u001b[1;33m.\u001b[0m\u001b[0mpath\u001b[0m\u001b[1;33m.\u001b[0m\u001b[0mjoin\u001b[0m\u001b[1;33m(\u001b[0m\u001b[0mdst\u001b[0m\u001b[1;33m,\u001b[0m \u001b[0mos\u001b[0m\u001b[1;33m.\u001b[0m\u001b[0mpath\u001b[0m\u001b[1;33m.\u001b[0m\u001b[0mbasename\u001b[0m\u001b[1;33m(\u001b[0m\u001b[0msrc\u001b[0m\u001b[1;33m)\u001b[0m\u001b[1;33m)\u001b[0m\u001b[1;33m\u001b[0m\u001b[1;33m\u001b[0m\u001b[0m\n\u001b[1;32m--> 427\u001b[1;33m     \u001b[0mcopyfile\u001b[0m\u001b[1;33m(\u001b[0m\u001b[0msrc\u001b[0m\u001b[1;33m,\u001b[0m \u001b[0mdst\u001b[0m\u001b[1;33m,\u001b[0m \u001b[0mfollow_symlinks\u001b[0m\u001b[1;33m=\u001b[0m\u001b[0mfollow_symlinks\u001b[0m\u001b[1;33m)\u001b[0m\u001b[1;33m\u001b[0m\u001b[1;33m\u001b[0m\u001b[0m\n\u001b[0m\u001b[0;32m    428\u001b[0m     \u001b[0mcopymode\u001b[0m\u001b[1;33m(\u001b[0m\u001b[0msrc\u001b[0m\u001b[1;33m,\u001b[0m \u001b[0mdst\u001b[0m\u001b[1;33m,\u001b[0m \u001b[0mfollow_symlinks\u001b[0m\u001b[1;33m=\u001b[0m\u001b[0mfollow_symlinks\u001b[0m\u001b[1;33m)\u001b[0m\u001b[1;33m\u001b[0m\u001b[1;33m\u001b[0m\u001b[0m\n\u001b[0;32m    429\u001b[0m     \u001b[1;32mreturn\u001b[0m \u001b[0mdst\u001b[0m\u001b[1;33m\u001b[0m\u001b[1;33m\u001b[0m\u001b[0m\n",
      "\u001b[1;32mD:\\anaconda3\\lib\\shutil.py\u001b[0m in \u001b[0;36mcopyfile\u001b[1;34m(src, dst, follow_symlinks)\u001b[0m\n\u001b[0;32m    262\u001b[0m         \u001b[0mos\u001b[0m\u001b[1;33m.\u001b[0m\u001b[0msymlink\u001b[0m\u001b[1;33m(\u001b[0m\u001b[0mos\u001b[0m\u001b[1;33m.\u001b[0m\u001b[0mreadlink\u001b[0m\u001b[1;33m(\u001b[0m\u001b[0msrc\u001b[0m\u001b[1;33m)\u001b[0m\u001b[1;33m,\u001b[0m \u001b[0mdst\u001b[0m\u001b[1;33m)\u001b[0m\u001b[1;33m\u001b[0m\u001b[1;33m\u001b[0m\u001b[0m\n\u001b[0;32m    263\u001b[0m     \u001b[1;32melse\u001b[0m\u001b[1;33m:\u001b[0m\u001b[1;33m\u001b[0m\u001b[1;33m\u001b[0m\u001b[0m\n\u001b[1;32m--> 264\u001b[1;33m         \u001b[1;32mwith\u001b[0m \u001b[0mopen\u001b[0m\u001b[1;33m(\u001b[0m\u001b[0msrc\u001b[0m\u001b[1;33m,\u001b[0m \u001b[1;34m'rb'\u001b[0m\u001b[1;33m)\u001b[0m \u001b[1;32mas\u001b[0m \u001b[0mfsrc\u001b[0m\u001b[1;33m:\u001b[0m\u001b[1;33m\u001b[0m\u001b[1;33m\u001b[0m\u001b[0m\n\u001b[0m\u001b[0;32m    265\u001b[0m             \u001b[1;32mtry\u001b[0m\u001b[1;33m:\u001b[0m\u001b[1;33m\u001b[0m\u001b[1;33m\u001b[0m\u001b[0m\n\u001b[0;32m    266\u001b[0m                 \u001b[1;32mwith\u001b[0m \u001b[0mopen\u001b[0m\u001b[1;33m(\u001b[0m\u001b[0mdst\u001b[0m\u001b[1;33m,\u001b[0m \u001b[1;34m'wb'\u001b[0m\u001b[1;33m)\u001b[0m \u001b[1;32mas\u001b[0m \u001b[0mfdst\u001b[0m\u001b[1;33m:\u001b[0m\u001b[1;33m\u001b[0m\u001b[1;33m\u001b[0m\u001b[0m\n",
      "\u001b[1;31mPermissionError\u001b[0m: [Errno 13] Permission denied: 'C:/Users/hedib/Desktop/imagesTest/val'"
     ]
    }
   ],
   "source": [
    "# copy the files to the destination folders\n",
    "for filename in files1:\n",
    "    source_pfile_path = os.path.join(source_flder_path, filename)\n",
    "    destination_pfile_path = os.path.join(destination_train, filename)\n",
    "    shutil.copy(source_pfile_path, destination_pfile_path)\n",
    "    \n",
    "for filename in files2:\n",
    "    source_pfile_path = os.path.join(source_flder_path, filename)\n",
    "    destination_pfile_path = os.path.join(destination_val, filename)\n",
    "    shutil.copy(source_pfile_path, destination_pfile_path)"
   ]
  },
  {
   "cell_type": "code",
   "execution_count": null,
   "id": "76ee914a",
   "metadata": {},
   "outputs": [],
   "source": []
  },
  {
   "cell_type": "code",
   "execution_count": 13,
   "id": "aff3f173",
   "metadata": {},
   "outputs": [],
   "source": [
    "# define the folder path where the .jpg and .txt files are located\n",
    "folder_pathJ = \"C:/Users/hedib/Downloads/oil spill detection.v2-resize-640.yolov8/script\"\n",
    "folder_pathT = \"C:/Users/hedib/Downloads/oil spill detection.v2-resize-640.yolov8/train/labels\""
   ]
  },
  {
   "cell_type": "code",
   "execution_count": 14,
   "id": "6f0ebc97",
   "metadata": {},
   "outputs": [],
   "source": [
    "jpg_files = [f for f in os.listdir(folder_pathJ) if f.endswith('.jpg')]"
   ]
  },
  {
   "cell_type": "code",
   "execution_count": 15,
   "id": "9895591a",
   "metadata": {},
   "outputs": [],
   "source": [
    "for jpg_file in jpg_files:\n",
    "    # get the base name of the .jpg file (i.e., without the extension)\n",
    "    base_name = os.path.splitext(jpg_file)[0]\n",
    "    \n",
    "    # check if there's a corresponding .txt file with the same name\n",
    "    txt_file = base_name + '.txt'\n",
    "    if txt_file in os.listdir(folder_pathT):\n",
    "        # copy the .txt file to a new folder (in this case, the same folder)\n",
    "        shutil.copy(os.path.join(folder_pathT, txt_file), os.path.join(folder_pathJ, txt_file))"
   ]
  },
  {
   "cell_type": "code",
   "execution_count": 25,
   "id": "9ed9a185",
   "metadata": {},
   "outputs": [],
   "source": []
  },
  {
   "cell_type": "code",
   "execution_count": null,
   "id": "f23fab0b",
   "metadata": {},
   "outputs": [],
   "source": []
  },
  {
   "cell_type": "code",
   "execution_count": 19,
   "id": "6edba5e9",
   "metadata": {},
   "outputs": [],
   "source": [
    "# define the folder path where the .jpg and .txt files are located\n",
    "folder_pathI = \"C:/Users/hedib/Downloads/oil spill detection.v2-resize-640.yolov8/script/images\"\n",
    "folder_pathL = \"C:/Users/hedib/Downloads/oil spill detection.v2-resize-640.yolov8/script/labels\""
   ]
  },
  {
   "cell_type": "code",
   "execution_count": 20,
   "id": "32ac72d5",
   "metadata": {},
   "outputs": [],
   "source": [
    "if not os.path.exists(folder_pathI):\n",
    "    os.mkdir(folder_pathI)\n",
    "if not os.path.exists(folder_pathL):\n",
    "    os.mkdir(folder_pathL)"
   ]
  },
  {
   "cell_type": "code",
   "execution_count": 21,
   "id": "bfde5f9a",
   "metadata": {},
   "outputs": [],
   "source": [
    "# define the file extension to copy\n",
    "file_extensionJ = \".jpg\"\n",
    "# define the file extension to copy\n",
    "file_extensionT = \".txt\""
   ]
  },
  {
   "cell_type": "code",
   "execution_count": 23,
   "id": "4bd1a337",
   "metadata": {},
   "outputs": [],
   "source": [
    "for filename in os.listdir(folder_pathJ):\n",
    "    \n",
    "    # check if the file has the desired extension\n",
    "    if filename.endswith(file_extensionJ):\n",
    "        # construct the source and destination file paths\n",
    "        source_file_path = os.path.join(folder_pathJ, filename)\n",
    "        destination_file_path = os.path.join(folder_pathI, filename)\n",
    "        \n",
    "    if filename.endswith(file_extensionT):\n",
    "        # construct the source and destination file paths\n",
    "        source_file_path = os.path.join(folder_pathJ, filename)\n",
    "        destination_file_path = os.path.join(folder_pathL, filename)\n",
    "        \n",
    "    # copy the file to the destination folder\n",
    "    shutil.copy(source_file_path, destination_file_path)"
   ]
  },
  {
   "cell_type": "code",
   "execution_count": 24,
   "id": "abc45385",
   "metadata": {},
   "outputs": [],
   "source": []
  },
  {
   "cell_type": "code",
   "execution_count": null,
   "id": "6fa01cd7",
   "metadata": {},
   "outputs": [],
   "source": []
  }
 ],
 "metadata": {
  "kernelspec": {
   "display_name": "Python 3 (ipykernel)",
   "language": "python",
   "name": "python3"
  },
  "language_info": {
   "codemirror_mode": {
    "name": "ipython",
    "version": 3
   },
   "file_extension": ".py",
   "mimetype": "text/x-python",
   "name": "python",
   "nbconvert_exporter": "python",
   "pygments_lexer": "ipython3",
   "version": "3.9.13"
  }
 },
 "nbformat": 4,
 "nbformat_minor": 5
}

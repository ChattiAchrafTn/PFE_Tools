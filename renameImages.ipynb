{
 "cells": [
  {
   "cell_type": "code",
   "execution_count": 1,
   "id": "8a357e78",
   "metadata": {},
   "outputs": [],
   "source": [
    "import os"
   ]
  },
  {
   "cell_type": "code",
   "execution_count": 7,
   "id": "4694188b",
   "metadata": {},
   "outputs": [],
   "source": [
    "def main():\n",
    "    i = 1\n",
    "    path=\"C:/Users/hedib/Downloads/Dataset/final_dataset/finalDataset_withAugmentation/Oil_Resized/\"\n",
    "    for filename in os.listdir(path):\n",
    "        \n",
    "        if i<10:\n",
    "            my_dest=\"Oil000\" + str(i) + \".jpg\"\n",
    "        elif i<100:\n",
    "            my_dest=\"Oil00\" + str(i) + \".jpg\"\n",
    "        elif i<1000:\n",
    "            my_dest=\"Oil0\" + str(i) + \".jpg\"\n",
    "        \n",
    "        my_source = path + filename\n",
    "        my_dest = path + my_dest\n",
    "        \n",
    "        os.rename(my_source, my_dest)\n",
    "        i += 1\n",
    "if __name__ == '__main__':\n",
    "\tmain()"
   ]
  },
  {
   "cell_type": "code",
   "execution_count": null,
   "id": "2ae87cac",
   "metadata": {},
   "outputs": [],
   "source": []
  }
 ],
 "metadata": {
  "kernelspec": {
   "display_name": "Python 3 (ipykernel)",
   "language": "python",
   "name": "python3"
  },
  "language_info": {
   "codemirror_mode": {
    "name": "ipython",
    "version": 3
   },
   "file_extension": ".py",
   "mimetype": "text/x-python",
   "name": "python",
   "nbconvert_exporter": "python",
   "pygments_lexer": "ipython3",
   "version": "3.9.4"
  }
 },
 "nbformat": 4,
 "nbformat_minor": 5
}

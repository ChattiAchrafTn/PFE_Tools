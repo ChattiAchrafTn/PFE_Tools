{
 "cells": [
  {
   "cell_type": "code",
   "execution_count": 1,
   "id": "bc4b1c35",
   "metadata": {},
   "outputs": [],
   "source": [
    "from PIL import Image\n",
    "import os"
   ]
  },
  {
   "cell_type": "code",
   "execution_count": 2,
   "id": "8f1ba799",
   "metadata": {},
   "outputs": [],
   "source": [
    "directory = 'C:/Users/hedib/Downloads/Dataset/final_dataset/finalDataset_Resized/noOil_Resized/'\n",
    "\n",
    "new_size = (416, 416)"
   ]
  },
  {
   "cell_type": "code",
   "execution_count": 3,
   "id": "1ebd4dc3",
   "metadata": {},
   "outputs": [],
   "source": [
    "for filename in os.listdir(directory):\n",
    "    if filename.endswith('.jpg'):\n",
    "        \n",
    "        image = Image.open(os.path.join(directory, filename))\n",
    "\n",
    "        resized_image = image.resize(new_size)\n",
    "\n",
    "        #new_filename = 'resized_' + filename\n",
    "        resized_image.save(os.path.join(directory, filename))"
   ]
  },
  {
   "cell_type": "code",
   "execution_count": null,
   "id": "2b49b795",
   "metadata": {},
   "outputs": [],
   "source": []
  }
 ],
 "metadata": {
  "kernelspec": {
   "display_name": "Python 3 (ipykernel)",
   "language": "python",
   "name": "python3"
  },
  "language_info": {
   "codemirror_mode": {
    "name": "ipython",
    "version": 3
   },
   "file_extension": ".py",
   "mimetype": "text/x-python",
   "name": "python",
   "nbconvert_exporter": "python",
   "pygments_lexer": "ipython3",
   "version": "3.9.4"
  }
 },
 "nbformat": 4,
 "nbformat_minor": 5
}
